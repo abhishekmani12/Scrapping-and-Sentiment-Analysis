{
  "nbformat": 4,
  "nbformat_minor": 0,
  "metadata": {
    "colab": {
      "name": "combiningTitleandText.ipynb",
      "provenance": [],
      "collapsed_sections": []
    },
    "kernelspec": {
      "name": "python3",
      "display_name": "Python 3"
    },
    "language_info": {
      "name": "python"
    }
  },
  "cells": [
    {
      "cell_type": "code",
      "source": [
        "from urllib.parse import urlparse\n",
        "import os\n",
        "import pandas as pd\n",
        "import re"
      ],
      "metadata": {
        "id": "BjrBK-27d9yM"
      },
      "execution_count": null,
      "outputs": []
    },
    {
      "cell_type": "code",
      "source": [
        "links=pd.read_excel('/content/Input.xlsx')\n",
        "text=pd.read_excel('/content/RawTextFile.xlsx')\n",
        "\n",
        "res=[\"\"]*150\n",
        "i=0\n",
        "\n",
        "for urls in (links['URL']):\n",
        "  parsed=urlparse(urls)\n",
        "  paths=parsed.path\n",
        "  res[i]=re.sub('\\W',' ',paths) #only characters and numbers\n",
        "  res[i]=re.sub('\\s$',\"\",res[i]) #Remove whitespace at the end of the string\n",
        "  res[i]=re.sub('\\d$',\"\",res[i]) #remove digit at the end of the string\n",
        "\n",
        "  res[i]=res[i] + \" \" + text[\"Text\"][i] #joining title and raw text\n",
        "  i+=1\n",
        "\n",
        "textdf=pd.DataFrame(columns=[\"Text\"])\n",
        "textdf[\"Text\"]=pd.DataFrame(res)  \n",
        "textdf.to_excel(r'RawText_with_title.xlsx') #converting to excel -- pls change path"
      ],
      "metadata": {
        "id": "BkHxAOBVdH3P"
      },
      "execution_count": null,
      "outputs": []
    }
  ]
}
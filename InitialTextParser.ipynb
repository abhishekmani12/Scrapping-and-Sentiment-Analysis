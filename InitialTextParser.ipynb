{
  "cells": [
    {
      "cell_type": "code",
      "execution_count": null,
      "id": "75fb4738-4df3-4ff8-8006-b68dda6c6317",
      "metadata": {
        "id": "75fb4738-4df3-4ff8-8006-b68dda6c6317",
        "outputId": "65748aad-edbe-4313-89fa-500baedf3fe3"
      },
      "outputs": [
        {
          "name": "stdout",
          "output_type": "stream",
          "text": [
            "Requirement already satisfied: beautifulsoup4 in c:\\users\\abhis\\anaconda3\\lib\\site-packages (4.11.1)\n",
            "Requirement already satisfied: soupsieve>1.2 in c:\\users\\abhis\\anaconda3\\lib\\site-packages (from beautifulsoup4) (2.3.1)\n",
            "Requirement already satisfied: requests in c:\\users\\abhis\\anaconda3\\lib\\site-packages (2.27.1)\n",
            "Requirement already satisfied: certifi>=2017.4.17 in c:\\users\\abhis\\anaconda3\\lib\\site-packages (from requests) (2021.10.8)\n",
            "Requirement already satisfied: charset-normalizer~=2.0.0 in c:\\users\\abhis\\anaconda3\\lib\\site-packages (from requests) (2.0.4)\n",
            "Requirement already satisfied: urllib3<1.27,>=1.21.1 in c:\\users\\abhis\\anaconda3\\lib\\site-packages (from requests) (1.26.9)\n",
            "Requirement already satisfied: idna<4,>=2.5 in c:\\users\\abhis\\anaconda3\\lib\\site-packages (from requests) (3.3)\n",
            "Collecting selenium\n",
            "  Downloading selenium-4.3.0-py3-none-any.whl (981 kB)\n",
            "Collecting trio-websocket~=0.9\n",
            "  Downloading trio_websocket-0.9.2-py3-none-any.whl (16 kB)\n",
            "Collecting trio~=0.17\n",
            "  Downloading trio-0.21.0-py3-none-any.whl (358 kB)\n",
            "Requirement already satisfied: urllib3[secure,socks]~=1.26 in c:\\users\\abhis\\anaconda3\\lib\\site-packages (from selenium) (1.26.9)\n",
            "Collecting outcome\n",
            "  Downloading outcome-1.2.0-py2.py3-none-any.whl (9.7 kB)\n",
            "Requirement already satisfied: sortedcontainers in c:\\users\\abhis\\anaconda3\\lib\\site-packages (from trio~=0.17->selenium) (2.4.0)\n",
            "Requirement already satisfied: idna in c:\\users\\abhis\\anaconda3\\lib\\site-packages (from trio~=0.17->selenium) (3.3)\n",
            "Requirement already satisfied: cffi>=1.14 in c:\\users\\abhis\\anaconda3\\lib\\site-packages (from trio~=0.17->selenium) (1.15.0)\n",
            "Requirement already satisfied: attrs>=19.2.0 in c:\\users\\abhis\\anaconda3\\lib\\site-packages (from trio~=0.17->selenium) (21.4.0)\n",
            "Collecting async-generator>=1.9\n",
            "  Downloading async_generator-1.10-py3-none-any.whl (18 kB)\n",
            "Requirement already satisfied: sniffio in c:\\users\\abhis\\anaconda3\\lib\\site-packages (from trio~=0.17->selenium) (1.2.0)\n",
            "Requirement already satisfied: pycparser in c:\\users\\abhis\\anaconda3\\lib\\site-packages (from cffi>=1.14->trio~=0.17->selenium) (2.21)\n",
            "Collecting wsproto>=0.14\n",
            "  Downloading wsproto-1.1.0-py3-none-any.whl (24 kB)\n",
            "Requirement already satisfied: cryptography>=1.3.4 in c:\\users\\abhis\\anaconda3\\lib\\site-packages (from urllib3[secure,socks]~=1.26->selenium) (3.4.8)\n",
            "Requirement already satisfied: pyOpenSSL>=0.14 in c:\\users\\abhis\\anaconda3\\lib\\site-packages (from urllib3[secure,socks]~=1.26->selenium) (21.0.0)\n",
            "Requirement already satisfied: certifi in c:\\users\\abhis\\anaconda3\\lib\\site-packages (from urllib3[secure,socks]~=1.26->selenium) (2021.10.8)\n",
            "Requirement already satisfied: PySocks!=1.5.7,<2.0,>=1.5.6 in c:\\users\\abhis\\anaconda3\\lib\\site-packages (from urllib3[secure,socks]~=1.26->selenium) (1.7.1)\n",
            "Requirement already satisfied: six>=1.5.2 in c:\\users\\abhis\\anaconda3\\lib\\site-packages (from pyOpenSSL>=0.14->urllib3[secure,socks]~=1.26->selenium) (1.16.0)\n",
            "Collecting h11<1,>=0.9.0\n",
            "  Downloading h11-0.13.0-py3-none-any.whl (58 kB)\n",
            "Installing collected packages: outcome, h11, async-generator, wsproto, trio, trio-websocket, selenium\n",
            "Successfully installed async-generator-1.10 h11-0.13.0 outcome-1.2.0 selenium-4.3.0 trio-0.21.0 trio-websocket-0.9.2 wsproto-1.1.0\n"
          ]
        }
      ],
      "source": [
        "!pip install beautifulsoup4\n",
        "!pip install requests\n",
        "!pip install selenium"
      ]
    },
    {
      "cell_type": "code",
      "execution_count": null,
      "id": "7829e8c6-e6de-4517-a323-f4ac55e11993",
      "metadata": {
        "id": "7829e8c6-e6de-4517-a323-f4ac55e11993"
      },
      "outputs": [],
      "source": [
        "import pandas as pd\n",
        "import requests\n",
        "import urllib.request,sys,time\n",
        "from selenium import webdriver\n",
        "from selenium.webdriver.common.keys import Keys"
      ]
    },
    {
      "cell_type": "code",
      "execution_count": null,
      "id": "a484f704-8a2b-4514-9ade-13dae6231a2f",
      "metadata": {
        "id": "a484f704-8a2b-4514-9ade-13dae6231a2f",
        "outputId": "cd96e707-8231-48fe-cf04-9154fb7c219d"
      },
      "outputs": [
        {
          "name": "stderr",
          "output_type": "stream",
          "text": [
            "C:\\Users\\Abhis\\AppData\\Local\\Temp\\ipykernel_1132\\1434219067.py:1: DeprecationWarning: executable_path has been deprecated, please pass in a Service object\n",
            "  driver=webdriver.Chrome(r'C:\\Users\\Abhis\\Desktop\\chromedriver_win32\\chromedriver.exe')\n"
          ]
        }
      ],
      "source": [
        "driver=webdriver.Chrome(r'C:\\Users\\Abhis\\Desktop\\chromedriver_win32\\chromedriver.exe')"
      ]
    },
    {
      "cell_type": "code",
      "execution_count": null,
      "id": "075cd96d-b47d-422c-9ace-585d524f550d",
      "metadata": {
        "id": "075cd96d-b47d-422c-9ace-585d524f550d"
      },
      "outputs": [],
      "source": [
        "urls=pd.read_excel(r'C:\\Users\\Abhis\\Desktop\\black_coffer\\20211030 Test Assignment-20220716T084424Z-001\\20211030 Test Assignment\\Input.xlsx') #convert input link xlsx to a df"
      ]
    },
    {
      "cell_type": "code",
      "execution_count": null,
      "id": "06b0f837-f49a-4599-9ea2-c929140753e8",
      "metadata": {
        "id": "06b0f837-f49a-4599-9ea2-c929140753e8",
        "outputId": "83a11f70-b8b9-4336-f4e7-b6ac4df56b70"
      },
      "outputs": [
        {
          "data": {
            "text/plain": [
              "<bound method DataFrame.count of      URL_ID                                                URL\n",
              "0       1.0  https://insights.blackcoffer.com/is-telehealth...\n",
              "1       2.0  https://insights.blackcoffer.com/how-telehealt...\n",
              "2       3.0  https://insights.blackcoffer.com/is-telemedici...\n",
              "3       4.0  https://insights.blackcoffer.com/is-telehealth...\n",
              "4       5.0  https://insights.blackcoffer.com/how-people-di...\n",
              "..      ...                                                ...\n",
              "145   146.0  https://insights.blackcoffer.com/blockchain-fo...\n",
              "146   147.0  https://insights.blackcoffer.com/the-future-of...\n",
              "147   148.0  https://insights.blackcoffer.com/big-data-anal...\n",
              "148   149.0  https://insights.blackcoffer.com/business-anal...\n",
              "149   150.0  https://insights.blackcoffer.com/challenges-an...\n",
              "\n",
              "[150 rows x 2 columns]>"
            ]
          },
          "execution_count": 138,
          "metadata": {},
          "output_type": "execute_result"
        }
      ],
      "source": [
        "urls.count"
      ]
    },
    {
      "cell_type": "code",
      "execution_count": null,
      "id": "b73c4037-8bf7-4513-8074-da64013a0057",
      "metadata": {
        "id": "b73c4037-8bf7-4513-8074-da64013a0057"
      },
      "outputs": [],
      "source": [
        "url=urls[\"URL\"]"
      ]
    },
    {
      "cell_type": "code",
      "execution_count": null,
      "id": "5ef7f3c4-d996-40e2-8781-0652cb8b9535",
      "metadata": {
        "id": "5ef7f3c4-d996-40e2-8781-0652cb8b9535"
      },
      "outputs": [],
      "source": [
        "#using selenium to extract data from webpage:\n",
        "\n",
        "textList=[]\n",
        "\n",
        "for links in url:\n",
        "    driver.get(links)\n",
        "    text=driver.find_elements(\"xpath\",'/html/body/div[6]/article/div[2]/div/div[1]/div/div[2]')\n",
        "        \n",
        "    for i in range(len(text)):\n",
        "        textList.append(text[i].text)    "
      ]
    },
    {
      "cell_type": "code",
      "execution_count": null,
      "id": "5c5b5901-2f7e-4ff4-b006-0654f9732bfd",
      "metadata": {
        "id": "5c5b5901-2f7e-4ff4-b006-0654f9732bfd",
        "outputId": "a6d287c7-54c9-44bd-8a61-c6d4f4d212d6"
      },
      "outputs": [
        {
          "data": {
            "text/plain": [
              "150"
            ]
          },
          "execution_count": 136,
          "metadata": {},
          "output_type": "execute_result"
        }
      ],
      "source": [
        "len(textList) #check"
      ]
    },
    {
      "cell_type": "code",
      "execution_count": null,
      "id": "6051928b-f8f1-4f42-8cc7-8d34ea4790e1",
      "metadata": {
        "id": "6051928b-f8f1-4f42-8cc7-8d34ea4790e1"
      },
      "outputs": [],
      "source": [
        "textdf= pd.DataFrame(columns=['Text'])"
      ]
    },
    {
      "cell_type": "code",
      "execution_count": null,
      "id": "f1068b76-b09a-4f38-8584-91e21a444387",
      "metadata": {
        "id": "f1068b76-b09a-4f38-8584-91e21a444387"
      },
      "outputs": [],
      "source": [
        "textdf['Text']=pd.DataFrame(textList)"
      ]
    },
    {
      "cell_type": "code",
      "execution_count": null,
      "id": "4794ebd5-7bf0-4c7a-984d-f9130a334134",
      "metadata": {
        "id": "4794ebd5-7bf0-4c7a-984d-f9130a334134",
        "outputId": "5f49ac5d-54e4-4f90-c014-926697502446"
      },
      "outputs": [
        {
          "data": {
            "text/html": [
              "<div>\n",
              "<style scoped>\n",
              "    .dataframe tbody tr th:only-of-type {\n",
              "        vertical-align: middle;\n",
              "    }\n",
              "\n",
              "    .dataframe tbody tr th {\n",
              "        vertical-align: top;\n",
              "    }\n",
              "\n",
              "    .dataframe thead th {\n",
              "        text-align: right;\n",
              "    }\n",
              "</style>\n",
              "<table border=\"1\" class=\"dataframe\">\n",
              "  <thead>\n",
              "    <tr style=\"text-align: right;\">\n",
              "      <th></th>\n",
              "      <th>Text</th>\n",
              "    </tr>\n",
              "  </thead>\n",
              "  <tbody>\n",
              "    <tr>\n",
              "      <th>0</th>\n",
              "      <td>Covid-19 has paved the way for advancements in...</td>\n",
              "    </tr>\n",
              "    <tr>\n",
              "      <th>1</th>\n",
              "      <td>The last 2 years are the most critical time in...</td>\n",
              "    </tr>\n",
              "    <tr>\n",
              "      <th>2</th>\n",
              "      <td>Telemedicine, which allows patients and doctor...</td>\n",
              "    </tr>\n",
              "    <tr>\n",
              "      <th>3</th>\n",
              "      <td>Telemedicine refers to a specific set of clini...</td>\n",
              "    </tr>\n",
              "    <tr>\n",
              "      <th>4</th>\n",
              "      <td>The future of telehealth stays positive\\nTo as...</td>\n",
              "    </tr>\n",
              "    <tr>\n",
              "      <th>...</th>\n",
              "      <td>...</td>\n",
              "    </tr>\n",
              "    <tr>\n",
              "      <th>145</th>\n",
              "      <td>Reconciling with the financial realities of an...</td>\n",
              "    </tr>\n",
              "    <tr>\n",
              "      <th>146</th>\n",
              "      <td>What Is an Investment?\\nAn investment is a res...</td>\n",
              "    </tr>\n",
              "    <tr>\n",
              "      <th>147</th>\n",
              "      <td>Quality and affordable healthcare is a vision ...</td>\n",
              "    </tr>\n",
              "    <tr>\n",
              "      <th>148</th>\n",
              "      <td>Analytics is a statistical scientific process ...</td>\n",
              "    </tr>\n",
              "    <tr>\n",
              "      <th>149</th>\n",
              "      <td>Big Data\\nTo begin with I shall first like to ...</td>\n",
              "    </tr>\n",
              "  </tbody>\n",
              "</table>\n",
              "<p>150 rows × 1 columns</p>\n",
              "</div>"
            ],
            "text/plain": [
              "                                                  Text\n",
              "0    Covid-19 has paved the way for advancements in...\n",
              "1    The last 2 years are the most critical time in...\n",
              "2    Telemedicine, which allows patients and doctor...\n",
              "3    Telemedicine refers to a specific set of clini...\n",
              "4    The future of telehealth stays positive\\nTo as...\n",
              "..                                                 ...\n",
              "145  Reconciling with the financial realities of an...\n",
              "146  What Is an Investment?\\nAn investment is a res...\n",
              "147  Quality and affordable healthcare is a vision ...\n",
              "148  Analytics is a statistical scientific process ...\n",
              "149  Big Data\\nTo begin with I shall first like to ...\n",
              "\n",
              "[150 rows x 1 columns]"
            ]
          },
          "execution_count": 147,
          "metadata": {},
          "output_type": "execute_result"
        }
      ],
      "source": [
        "textdf"
      ]
    },
    {
      "cell_type": "code",
      "execution_count": null,
      "id": "b57a25e6-a304-402a-87b2-e17e4e392cd4",
      "metadata": {
        "id": "b57a25e6-a304-402a-87b2-e17e4e392cd4"
      },
      "outputs": [],
      "source": [
        "textdf.to_excel(r'C:\\Users\\Abhis\\Desktop\\RawTextFile.xlsx') #converting raw text without title to excel -- change path"
      ]
    }
  ],
  "metadata": {
    "kernelspec": {
      "display_name": "Python 3 (ipykernel)",
      "language": "python",
      "name": "python3"
    },
    "language_info": {
      "codemirror_mode": {
        "name": "ipython",
        "version": 3
      },
      "file_extension": ".py",
      "mimetype": "text/x-python",
      "name": "python",
      "nbconvert_exporter": "python",
      "pygments_lexer": "ipython3",
      "version": "3.9.12"
    },
    "colab": {
      "name": "InitialTextParser.ipynb",
      "provenance": []
    }
  },
  "nbformat": 4,
  "nbformat_minor": 5
}